{
 "cells": [
  {
   "cell_type": "code",
   "execution_count": 10,
   "metadata": {},
   "outputs": [],
   "source": [
    "from os import path, walk\n",
    "from datetime import datetime\n",
    "import numpy as np\n",
    "import matplotlib.pyplot as plt\n",
    "import math\n",
    "import csv"
   ]
  },
  {
   "cell_type": "markdown",
   "metadata": {},
   "source": [
    "Directory structure:\n",
    "```\n",
    "out/parsec/\n",
    "    {benchmark name}/\n",
    "        {repl}/\n",
    "            {assoc}\n",
    "```\n",
    "\n",
    "Important metrics: \n",
    "- Associativity\n",
    "- Replacement Algorithm\n",
    "- Benchmark\n",
    "- ~~Accesses~~\n",
    "- ~~Hits~~\n",
    "- ~~Misses~~\n",
    "- Miss Rate"
   ]
  },
  {
   "cell_type": "code",
   "execution_count": 11,
   "metadata": {},
   "outputs": [],
   "source": [
    "important_stats = { \n",
    "    # \"board.cache_hierarchy.l1dcaches.overallHits::total\": \"hits\",\n",
    "    # \"board.cache_hierarchy.l1dcaches.overallMisses::total\": \"misses\",\n",
    "    # \"board.cache_hierarchy.l1dcaches.overallAccesses::total\": \"accesses\",\n",
    "    \"board.cache_hierarchy.l1dcaches.overallMissRate::total\": \"miss_rate\",\n",
    " }"
   ]
  },
  {
   "cell_type": "code",
   "execution_count": 12,
   "metadata": {},
   "outputs": [],
   "source": [
    "class Trial:\n",
    "    def __init__(\n",
    "        self, benchmark: str, repl: str, assoc: str, miss_rate: float\n",
    "    ):\n",
    "        self.benchmark = benchmark\n",
    "        self.repl = repl\n",
    "        self.assoc = assoc\n",
    "        self.miss_rate = miss_rate"
   ]
  },
  {
   "cell_type": "code",
   "execution_count": 13,
   "metadata": {},
   "outputs": [
    {
     "ename": "NameError",
     "evalue": "name 'line_args' is not defined",
     "output_type": "error",
     "traceback": [
      "\u001b[0;31m---------------------------------------------------------------------------\u001b[0m",
      "\u001b[0;31mNameError\u001b[0m                                 Traceback (most recent call last)",
      "Cell \u001b[0;32mIn[13], line 33\u001b[0m\n\u001b[1;32m     30\u001b[0m         \u001b[38;5;28;01mbreak\u001b[39;00m\n\u001b[1;32m     32\u001b[0m     \u001b[38;5;28;01mif\u001b[39;00m miss_rate \u001b[38;5;241m==\u001b[39m \u001b[38;5;241m1\u001b[39m:\n\u001b[0;32m---> 33\u001b[0m         \u001b[38;5;28mprint\u001b[39m(\u001b[38;5;124m\"\u001b[39m\u001b[38;5;124m!\u001b[39m\u001b[38;5;124m\"\u001b[39m, benchmark, repl, assoc, \u001b[43mline_args\u001b[49m[\u001b[38;5;241m1\u001b[39m])\n\u001b[1;32m     34\u001b[0m     trials\u001b[38;5;241m.\u001b[39mappend(Trial(benchmark, repl, assoc, miss_rate))\n\u001b[1;32m     35\u001b[0m \u001b[38;5;28mprint\u001b[39m(trials)\n",
      "\u001b[0;31mNameError\u001b[0m: name 'line_args' is not defined"
     ]
    }
   ],
   "source": [
    "BASE_PATH = path.join(\"../\", \"out/parsec\")\n",
    "\n",
    "trials: [Trial] = []\n",
    "\n",
    "for root, _, files in walk(BASE_PATH):\n",
    "    # Only need folders with statistics\n",
    "    if \"stats.txt\" not in files:\n",
    "        continue\n",
    "    \n",
    "    parent_dirs = root.split(\"/\")\n",
    "    if len(parent_dirs) < 6:\n",
    "        continue\n",
    "    benchmark = parent_dirs[3]\n",
    "    repl = parent_dirs[4]\n",
    "    assoc = int(parent_dirs[5])\n",
    "    miss_rate = 1\n",
    "\n",
    "    stat_file = path.join(root, \"stats.txt\")\n",
    "    f = open(stat_file, \"r\")\n",
    "    lines = f.readlines()\n",
    "\n",
    "    stats = dict()\n",
    "    for line in lines[2:-2]:\n",
    "        line_args = line.split()\n",
    "        if line_args[0] not in important_stats.keys():\n",
    "            continue\n",
    "        # If recording things other than miss rate, this needs to change\n",
    "        # print(stat_file, line_args)\n",
    "        miss_rate = float(line_args[1])\n",
    "        break\n",
    "    \n",
    "    if miss_rate == 1:\n",
    "        print(\"!\", benchmark, repl, assoc, line_args[1])\n",
    "    trials.append(Trial(benchmark, repl, assoc, miss_rate))\n",
    "print(trials)\n"
   ]
  },
  {
   "cell_type": "code",
   "execution_count": null,
   "metadata": {},
   "outputs": [
    {
     "name": "stdout",
     "output_type": "stream",
     "text": [
      "['nru', 'sieve', 'rr', 'rrip', 'tree-plru', 'brrip']\n",
      "['freqmine', 'canneal', 'blackscholes', 'raytrace', 'fluidanimate', 'x264', 'vips', 'ferret', 'streamcluster', 'dedup', 'bodytrack', 'facesim', 'swaptions']\n",
      "[2, 4, 8, 16]\n"
     ]
    }
   ],
   "source": [
    "algorithms = set()\n",
    "benchmarks = set()\n",
    "assocs = set()\n",
    "for trial in trials:\n",
    "    algorithms.add(trial.repl)\n",
    "    benchmarks.add(trial.benchmark)\n",
    "    assocs.add(trial.assoc)\n",
    "algorithms = list(algorithms)\n",
    "benchmarks = list(benchmarks)\n",
    "assocs = sorted(list(assocs))\n",
    "\n",
    "print(algorithms)\n",
    "print(benchmarks)\n",
    "print(assocs)"
   ]
  },
  {
   "cell_type": "code",
   "execution_count": null,
   "metadata": {},
   "outputs": [
    {
     "name": "stdout",
     "output_type": "stream",
     "text": [
      "{2: [array([0.014884, 0.003042, 0.015986, 0.041985, 0.040699, 0.013792, None,\n",
      "       0.018856, None, 0.004648, 0.007492, 0.010195, 0.018094],\n",
      "      dtype=object), array([0.014463, 0.002629, 0.015804, 0.039408, 0.040997, 0.016956,\n",
      "       0.0166  , 0.01621 , 0.015245, 0.005867, 0.009185, 0.012104,\n",
      "       0.018364]), array([0.015577, 0.002938, 0.016504, 0.042722, 0.045001, 0.015063,\n",
      "       0.016029, 0.017152, 0.00328 , 0.005349, 0.009284, 0.011155,\n",
      "       0.019465]), array([0.014724, 0.002616, 0.01557, None, 0.041102, 0.012927, 0.015371,\n",
      "       0.017374, None, 0.004784, 0.007499, 0.010719, None], dtype=object), array([0.013929, 0.002593, 0.015739, 0.041897, 0.039994, 0.012153,\n",
      "       0.015156, 0.019296, 0.002118, 0.004659, 0.00885 , 0.010242,\n",
      "       0.017898]), array([0.015857, None, None, None, None, 0.017443, 0.016308, 0.01744,\n",
      "       None, 0.005927, 0.007523, 0.011677, 0.019095], dtype=object)], 4: [array([0.0122, 0.002532, 0.012996, None, 0.038626, 0.010279, 0.013817,\n",
      "       0.015048, None, 0.004377, 0.007354, 0.00842, None], dtype=object), array([0.012448, 0.002547, 0.017015, 0.03802 , 0.039233, 0.01751 ,\n",
      "       0.017962, 0.015834, 0.044272, 0.005662, 0.008857, 0.012867,\n",
      "       0.01749 ]), array([0.014392, 0.002863, 0.01576 , 0.042636, 0.044326, 0.013619,\n",
      "       0.015191, 0.015433, 0.003728, 0.004868, 0.009215, 0.010192,\n",
      "       0.019047]), array([0.012396, 0.002528, None, 0.040983, None, 0.011287, 0.014102,\n",
      "       0.015439, 0.001275, 0.004434, 0.007399, 0.008614, 0.017072],\n",
      "      dtype=object), array([0.012254, 0.002506, 0.014445, 0.041695, 0.038691, 0.011231,\n",
      "       0.01389 , 0.015405, 0.000844, 0.00441 , 0.008663, 0.00837 ,\n",
      "       0.017173]), array([0.012607, 0.002546, 0.014043, 0.036865, None, 0.018001, 0.015117,\n",
      "       0.016064, 0.017707, 0.005552, None, 0.011863, 0.017362],\n",
      "      dtype=object)], 8: [array([0.011848, 0.002861, 0.012432, 0.0416  , 0.038518, 0.010188,\n",
      "       0.013262, 0.01459 , 0.000653, 0.004358, 0.00733 , 0.007898,\n",
      "       0.016009]), array([0.012213, 0.002553, 0.014819, None, 0.039452, 0.021586, 0.019999,\n",
      "       0.016298, None, 0.005727, 0.008973, 0.017502, 0.017739],\n",
      "      dtype=object), array([0.014126, 0.002863, 0.014072, None, 0.043565, 0.013675, 0.014846,\n",
      "       0.014745, None, 0.004833, 0.009015, 0.009908, 0.018093],\n",
      "      dtype=object), array([0.011909, 0.002667, None, 0.040896, 0.038868, 0.011273, 0.01353,\n",
      "       0.014993, 0.001209, 0.004373, 0.007336, 0.007986, 0.016176],\n",
      "      dtype=object), array([0.011909, 0.002493, 0.012499, 0.041614, 0.038581, 0.010876,\n",
      "       0.013348, 0.01481, None, 0.004416, 0.008755, 0.00832, 0.016703],\n",
      "      dtype=object), array([0.01226, 0.002528, None, 0.036714, 0.040245, 0.019911, 0.015396,\n",
      "       0.016196, 0.023615, 0.005565, 0.007459, 0.015697, 0.018079],\n",
      "      dtype=object)], 16: [array([0.011649, 0.002487, 0.012338, 0.041518, 0.038477, 0.009772,\n",
      "       0.012712, 0.014561, None, 0.004375, 0.008556, 0.007514, 0.015756],\n",
      "      dtype=object), array([0.012357, 0.002559, 0.016017, 0.03771 , 0.04004 , 0.022842,\n",
      "       0.02235 , 0.017505, 0.051307, 0.005874, 0.009045, 0.018567,\n",
      "       0.019499]), array([0.01422 , 0.002856, 0.013875, 0.042785, 0.043497, 0.013784,\n",
      "       0.014303, 0.014647, 0.001659, 0.004836, 0.008925, 0.009482,\n",
      "       0.017997]), array([0.011653, 0.002475, 0.012343, None, 0.03877, 0.010869, 0.012901,\n",
      "       0.014826, 0.000693, 0.004356, 0.008806, 0.007707, 0.01592],\n",
      "      dtype=object), array([0.011974, 0.002485, 0.012368, 0.041518, 0.03851 , 0.011035,\n",
      "       0.012996, 0.014966, 0.00054 , 0.004456, 0.008774, 0.007996,\n",
      "       0.016082]), array([0.012248, 0.002533, 0.014849, 0.036953, 0.040438, 0.019944,\n",
      "       0.016151, 0.016874, 0.020607, 0.005635, 0.008914, 0.014214,\n",
      "       0.01825 ])]}\n"
     ]
    }
   ],
   "source": [
    "avgs = dict()\n",
    "for assoc in assocs:\n",
    "    avg_assoc_group = []\n",
    "    for algo in algorithms:\n",
    "        data = []\n",
    "        for trial in trials:\n",
    "            if trial.repl != algo or trial.assoc != assoc:\n",
    "                continue\n",
    "            data.append(trial.miss_rate)\n",
    "        np_data = np.array(data)\n",
    "        avg_assoc_group.append(np_data)\n",
    "    avgs[assoc] = avg_assoc_group\n",
    "print(avgs)"
   ]
  },
  {
   "cell_type": "code",
   "execution_count": 5,
   "metadata": {},
   "outputs": [
    {
     "ename": "NameError",
     "evalue": "name 'algorithms' is not defined",
     "output_type": "error",
     "traceback": [
      "\u001b[0;31m---------------------------------------------------------------------------\u001b[0m",
      "\u001b[0;31mNameError\u001b[0m                                 Traceback (most recent call last)",
      "Cell \u001b[0;32mIn[5], line 4\u001b[0m\n\u001b[1;32m      1\u001b[0m fig \u001b[38;5;241m=\u001b[39m plt\u001b[38;5;241m.\u001b[39mfigure()\n\u001b[1;32m      2\u001b[0m fig, ax \u001b[38;5;241m=\u001b[39m plt\u001b[38;5;241m.\u001b[39msubplots(layout\u001b[38;5;241m=\u001b[39m\u001b[38;5;124m'\u001b[39m\u001b[38;5;124mconstrained\u001b[39m\u001b[38;5;124m'\u001b[39m)\n\u001b[0;32m----> 4\u001b[0m x \u001b[38;5;241m=\u001b[39m np\u001b[38;5;241m.\u001b[39marange(\u001b[38;5;28mlen\u001b[39m(\u001b[43malgorithms\u001b[49m))\n\u001b[1;32m      5\u001b[0m width \u001b[38;5;241m=\u001b[39m \u001b[38;5;241m0.2\u001b[39m\n\u001b[1;32m      6\u001b[0m multiplier \u001b[38;5;241m=\u001b[39m \u001b[38;5;241m0\u001b[39m\n",
      "\u001b[0;31mNameError\u001b[0m: name 'algorithms' is not defined"
     ]
    },
    {
     "data": {
      "text/plain": [
       "<Figure size 640x480 with 0 Axes>"
      ]
     },
     "metadata": {},
     "output_type": "display_data"
    },
    {
     "data": {
      "image/png": "[encoded data removed]",
      "text/plain": [
       "<Figure size 640x480 with 1 Axes>"
      ]
     },
     "metadata": {},
     "output_type": "display_data"
    }
   ],
   "source": [
    "fig = plt.figure()\n",
    "fig, ax = plt.subplots(layout='constrained')\n",
    "\n",
    "x = np.arange(len(algorithms))\n",
    "width = 0.2\n",
    "multiplier = 0\n",
    "\n",
    "for assoc, assoc_group in avgs.items():\n",
    "    offset = width * multiplier\n",
    "    rects = ax.bar(x + offset,\n",
    "        height=[np.mean(trial_set) for trial_set in assoc_group],\n",
    "        width=width,\n",
    "        yerr=[np.std(trial_set) for trial_set in assoc_group],\n",
    "        capsize=6,\n",
    "        label=assoc\n",
    "        )\n",
    "    multiplier += 1\n",
    "\n",
    "ax.set_xticks(x + width * (len(assocs) - 1) / 2, algorithms)\n",
    "ax.legend(loc='upper left', ncols=len(assocs))\n",
    "\n",
    "# ax.bar(algorithms,\n",
    "#     height=[np.mean(avg) for avg in avgs],\n",
    "#     yerr=[np.std(avg) for avg in avgs],\n",
    "#     capsize=12\n",
    "#     )"
   ]
  },
  {
   "cell_type": "code",
   "execution_count": 19,
   "metadata": {},
   "outputs": [
    {
     "data": {
      "text/plain": [
       "<Figure size 640x480 with 0 Axes>"
      ]
     },
     "metadata": {},
     "output_type": "display_data"
    },
    {
     "data": {
      "image/png": "[encoded data removed]",
      "text/plain": [
       "<Figure size 640x480 with 14 Axes>"
      ]
     },
     "metadata": {},
     "output_type": "display_data"
    }
   ],
   "source": [
    "fig = plt.figure()\n",
    "fig, axs = plt.subplots(2, math.ceil(len(benchmarks)/ 2))\n",
    "\n",
    "for bench in benchmarks:\n",
    "    pass"
   ]
  }
 ],
 "metadata": {
  "kernelspec": {
   "display_name": "venv",
   "language": "python",
   "name": "python3"
  },
  "language_info": {
   "codemirror_mode": {
    "name": "ipython",
    "version": 3
   },
   "file_extension": ".py",
   "mimetype": "text/x-python",
   "name": "python",
   "nbconvert_exporter": "python",
   "pygments_lexer": "ipython3",
   "version": "3.11.12"
  }
 },
 "nbformat": 4,
 "nbformat_minor": 2
}
