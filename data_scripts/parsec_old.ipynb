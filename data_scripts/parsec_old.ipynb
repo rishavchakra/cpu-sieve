{
 "cells": [
  {
   "cell_type": "code",
   "execution_count": 1,
   "metadata": {},
   "outputs": [],
   "source": [
    "from os import path, walk\n",
    "from datetime import datetime\n",
    "import numpy as np\n",
    "import matplotlib.pyplot as plt\n",
    "import math\n",
    "import csv"
   ]
  },
  {
   "cell_type": "markdown",
   "metadata": {},
   "source": [
    "Directory structure:\n",
    "```\n",
    "out/parsec/\n",
    "    {benchmark name}/\n",
    "        {repl}/\n",
    "            {assoc}\n",
    "```\n",
    "\n",
    "Important metrics: \n",
    "- Associativity\n",
    "- Replacement Algorithm\n",
    "- Benchmark\n",
    "- ~~Accesses~~\n",
    "- ~~Hits~~\n",
    "- ~~Misses~~\n",
    "- Miss Rate"
   ]
  },
  {
   "cell_type": "code",
   "execution_count": 35,
   "metadata": {},
   "outputs": [],
   "source": [
    "important_stats = { \n",
    "    # \"board.cache_hierarchy.l1dcaches.overallHits::total\": \"hits\",\n",
    "    # \"board.cache_hierarchy.l1dcaches.overallMisses::total\": \"misses\",\n",
    "    # \"board.cache_hierarchy.l1dcaches.overallAccesses::total\": \"accesses\",\n",
    "    \"board.cache_hierarchy.l1dcaches.overallMissRate::total\": \"miss_rate\",\n",
    " }"
   ]
  },
  {
   "cell_type": "code",
   "execution_count": 36,
   "metadata": {},
   "outputs": [],
   "source": [
    "class Trial:\n",
    "    def __init__(\n",
    "        self, benchmark: str, repl: str, assoc: str, miss_rate: float\n",
    "    ):\n",
    "        self.benchmark = benchmark\n",
    "        self.repl = repl\n",
    "        self.assoc = assoc\n",
    "        self.miss_rate = miss_rate"
   ]
  },
  {
   "cell_type": "code",
   "execution_count": 41,
   "metadata": {},
   "outputs": [
    {
     "name": "stdout",
     "output_type": "stream",
     "text": [
      "! raytrace brrip 2 0.002546\n",
      "! facesim rrip 8 0.012343\n",
      "! facesim rrip 4 0.012343\n",
      "! facesim brrip 8 0.014849\n",
      "! facesim brrip 2 0.014043\n",
      "! bodytrack rrip 16 0.015739\n",
      "! bodytrack rrip 2 0.040983\n",
      "! bodytrack rr 8 0.042785\n",
      "! bodytrack nru 4 0.041600\n",
      "! bodytrack sieve 8 0.037710\n",
      "! bodytrack brrip 2 0.036865\n",
      "! canneal rrip 4 0.038868\n",
      "! canneal brrip 4 0.040245\n",
      "! canneal brrip 2 0.040245\n",
      "! vips nru 2 0.013817\n",
      "! blackscholes rrip 2 0.001275\n",
      "! blackscholes rr 8 0.001659\n",
      "! blackscholes nru 16 0.003280\n",
      "! blackscholes nru 4 0.000653\n",
      "! blackscholes nru 2 0.000653\n",
      "! blackscholes sieve 8 0.051307\n",
      "! blackscholes brrip 2 0.017707\n",
      "! blackscholes tree-plru 8 0.000540\n",
      "! streamcluster brrip 4 0.007459\n",
      "! dedup rrip 2 0.017072\n",
      "! dedup nru 4 0.016009\n",
      "[<__main__.Trial object at 0x116304790>, <__main__.Trial object at 0x116304890>, <__main__.Trial object at 0x116305690>, <__main__.Trial object at 0x116305210>, <__main__.Trial object at 0x116306410>, <__main__.Trial object at 0x1163052d0>, <__main__.Trial object at 0x116304090>, <__main__.Trial object at 0x116305510>, <__main__.Trial object at 0x116305c90>, <__main__.Trial object at 0x116305f50>, <__main__.Trial object at 0x116307d10>, <__main__.Trial object at 0x116305850>, <__main__.Trial object at 0x1163057d0>, <__main__.Trial object at 0x116304e50>, <__main__.Trial object at 0x116307810>, <__main__.Trial object at 0x116307790>, <__main__.Trial object at 0x116305910>, <__main__.Trial object at 0x116304810>, <__main__.Trial object at 0x116305050>, <__main__.Trial object at 0x116304850>, <__main__.Trial object at 0x116304250>, <__main__.Trial object at 0x116307210>, <__main__.Trial object at 0x116305010>, <__main__.Trial object at 0x116306810>, <__main__.Trial object at 0x115cd46d0>, <__main__.Trial object at 0x116307390>, <__main__.Trial object at 0x115dc9c10>, <__main__.Trial object at 0x116689b90>, <__main__.Trial object at 0x1161c5550>, <__main__.Trial object at 0x11667b2d0>, <__main__.Trial object at 0x11668a810>, <__main__.Trial object at 0x11668b7d0>, <__main__.Trial object at 0x116305e90>, <__main__.Trial object at 0x115cd12d0>, <__main__.Trial object at 0x116689b50>, <__main__.Trial object at 0x115cd39d0>, <__main__.Trial object at 0x115cd0350>, <__main__.Trial object at 0x115cd2b50>, <__main__.Trial object at 0x115cd16d0>, <__main__.Trial object at 0x115cd1690>, <__main__.Trial object at 0x115cd0510>, <__main__.Trial object at 0x115cd0150>, <__main__.Trial object at 0x115cd0cd0>, <__main__.Trial object at 0x115cd0a50>, <__main__.Trial object at 0x115cd07d0>, <__main__.Trial object at 0x115cd1410>, <__main__.Trial object at 0x116305150>, <__main__.Trial object at 0x115cd1cd0>, <__main__.Trial object at 0x115cd1a10>, <__main__.Trial object at 0x115cd1e90>, <__main__.Trial object at 0x115cd0b50>, <__main__.Trial object at 0x115cd2010>, <__main__.Trial object at 0x115cd3790>, <__main__.Trial object at 0x115cd1650>, <__main__.Trial object at 0x115cd2850>, <__main__.Trial object at 0x115cd3a90>, <__main__.Trial object at 0x115cd0a10>, <__main__.Trial object at 0x115cd0210>, <__main__.Trial object at 0x115cd38d0>, <__main__.Trial object at 0x115cd3610>, <__main__.Trial object at 0x115cd2a90>, <__main__.Trial object at 0x115cd2690>, <__main__.Trial object at 0x115cd18d0>, <__main__.Trial object at 0x115cd1a90>, <__main__.Trial object at 0x115cd0b10>, <__main__.Trial object at 0x1166a6ad0>, <__main__.Trial object at 0x1166a5210>, <__main__.Trial object at 0x1166a6b50>, <__main__.Trial object at 0x1166a7510>, <__main__.Trial object at 0x1166a7b50>, <__main__.Trial object at 0x115cd3150>, <__main__.Trial object at 0x116304b10>, <__main__.Trial object at 0x1166a78d0>, <__main__.Trial object at 0x1166a4c90>, <__main__.Trial object at 0x1161b3d10>, <__main__.Trial object at 0x1166b3b90>, <__main__.Trial object at 0x11662c190>, <__main__.Trial object at 0x1166b3050>, <__main__.Trial object at 0x116304310>, <__main__.Trial object at 0x11662cdd0>, <__main__.Trial object at 0x1166a6410>, <__main__.Trial object at 0x1166b0a10>, <__main__.Trial object at 0x1166b0450>, <__main__.Trial object at 0x1166b30d0>, <__main__.Trial object at 0x1166b3210>, <__main__.Trial object at 0x1166b1890>, <__main__.Trial object at 0x115cd2b10>, <__main__.Trial object at 0x1166b6790>, <__main__.Trial object at 0x1166b61d0>, <__main__.Trial object at 0x1166b7c50>, <__main__.Trial object at 0x1166b6f50>, <__main__.Trial object at 0x1166b6dd0>, <__main__.Trial object at 0x1166b5c90>, <__main__.Trial object at 0x1166b4310>, <__main__.Trial object at 0x1166b6510>, <__main__.Trial object at 0x1166b7d90>, <__main__.Trial object at 0x1166b4d10>, <__main__.Trial object at 0x1166b68d0>, <__main__.Trial object at 0x1166b5450>, <__main__.Trial object at 0x1166b5ad0>, <__main__.Trial object at 0x11636c610>, <__main__.Trial object at 0x1166b4f10>, <__main__.Trial object at 0x1166b7bd0>, <__main__.Trial object at 0x1166b4350>, <__main__.Trial object at 0x1166b5c10>, <__main__.Trial object at 0x1166b5910>, <__main__.Trial object at 0x1166b41d0>, <__main__.Trial object at 0x1166b5fd0>, <__main__.Trial object at 0x1166b50d0>, <__main__.Trial object at 0x1166b4ad0>, <__main__.Trial object at 0x1166b4210>, <__main__.Trial object at 0x1166b6d90>, <__main__.Trial object at 0x1166b5550>, <__main__.Trial object at 0x1166b5e10>, <__main__.Trial object at 0x1166b4fd0>, <__main__.Trial object at 0x1166b5ed0>, <__main__.Trial object at 0x115cddc50>, <__main__.Trial object at 0x1166b7f10>, <__main__.Trial object at 0x116141010>, <__main__.Trial object at 0x11636cc10>, <__main__.Trial object at 0x115cdfd50>, <__main__.Trial object at 0x115cdc110>, <__main__.Trial object at 0x115cdfe90>, <__main__.Trial object at 0x115cde810>, <__main__.Trial object at 0x115cdfcd0>, <__main__.Trial object at 0x115cdee50>, <__main__.Trial object at 0x115cdce90>, <__main__.Trial object at 0x115cde0d0>, <__main__.Trial object at 0x115cdde50>, <__main__.Trial object at 0x115cdd7d0>, <__main__.Trial object at 0x115cde290>, <__main__.Trial object at 0x115cded50>, <__main__.Trial object at 0x115cddb10>, <__main__.Trial object at 0x115cdf9d0>, <__main__.Trial object at 0x115cdfb90>, <__main__.Trial object at 0x115cdf650>, <__main__.Trial object at 0x115cde4d0>, <__main__.Trial object at 0x115cdc450>, <__main__.Trial object at 0x115cdcc50>, <__main__.Trial object at 0x115cdead0>, <__main__.Trial object at 0x115cdf610>, <__main__.Trial object at 0x115cdfe10>, <__main__.Trial object at 0x115cdd550>, <__main__.Trial object at 0x115cdd110>, <__main__.Trial object at 0x115cde450>, <__main__.Trial object at 0x115cdf410>, <__main__.Trial object at 0x115cdfb50>, <__main__.Trial object at 0x115cdd010>, <__main__.Trial object at 0x115cdcf90>, <__main__.Trial object at 0x115cdd910>, <__main__.Trial object at 0x115cdf5d0>, <__main__.Trial object at 0x115cde1d0>, <__main__.Trial object at 0x115cdcf50>, <__main__.Trial object at 0x115cdf290>, <__main__.Trial object at 0x115cdea10>, <__main__.Trial object at 0x115cdf450>, <__main__.Trial object at 0x115cdc410>, <__main__.Trial object at 0x116571dd0>, <__main__.Trial object at 0x116571150>, <__main__.Trial object at 0x115cdee90>, <__main__.Trial object at 0x115cdcc10>, <__main__.Trial object at 0x115cdf550>, <__main__.Trial object at 0x115cdc4d0>, <__main__.Trial object at 0x115cdd3d0>, <__main__.Trial object at 0x115cdcb10>, <__main__.Trial object at 0x115cdeb10>, <__main__.Trial object at 0x115cdd510>, <__main__.Trial object at 0x115cdf850>, <__main__.Trial object at 0x115cdf790>, <__main__.Trial object at 0x115cdf390>, <__main__.Trial object at 0x116609810>, <__main__.Trial object at 0x115cdfdd0>, <__main__.Trial object at 0x115cdfed0>, <__main__.Trial object at 0x115cdec50>, <__main__.Trial object at 0x115cdf310>, <__main__.Trial object at 0x115cde250>, <__main__.Trial object at 0x116696c90>, <__main__.Trial object at 0x115cdf250>, <__main__.Trial object at 0x116695a50>, <__main__.Trial object at 0x115cde050>, <__main__.Trial object at 0x115cddf50>, <__main__.Trial object at 0x115cdc3d0>, <__main__.Trial object at 0x116695990>, <__main__.Trial object at 0x115cdecd0>, <__main__.Trial object at 0x115cdeed0>, <__main__.Trial object at 0x115cdc910>, <__main__.Trial object at 0x115cdfd90>, <__main__.Trial object at 0x115cdf2d0>, <__main__.Trial object at 0x115cde990>, <__main__.Trial object at 0x115cdc650>, <__main__.Trial object at 0x1166d9910>, <__main__.Trial object at 0x115cdec10>, <__main__.Trial object at 0x1166d99d0>, <__main__.Trial object at 0x1166d9f50>, <__main__.Trial object at 0x1166d9110>, <__main__.Trial object at 0x1166d8f90>, <__main__.Trial object at 0x1166d9d50>, <__main__.Trial object at 0x115cdca50>, <__main__.Trial object at 0x115cdec90>, <__main__.Trial object at 0x1166d9310>, <__main__.Trial object at 0x1166d9610>, <__main__.Trial object at 0x1166d9b50>, <__main__.Trial object at 0x1166da110>, <__main__.Trial object at 0x1166d9210>, <__main__.Trial object at 0x1166d9390>, <__main__.Trial object at 0x1166d9950>, <__main__.Trial object at 0x1166d84d0>, <__main__.Trial object at 0x1166d9490>, <__main__.Trial object at 0x1166d90d0>, <__main__.Trial object at 0x1166d9c50>, <__main__.Trial object at 0x1166dbe90>, <__main__.Trial object at 0x1166d9e90>, <__main__.Trial object at 0x1166d9850>, <__main__.Trial object at 0x1166da210>, <__main__.Trial object at 0x1166d8290>, <__main__.Trial object at 0x1166d8ad0>, <__main__.Trial object at 0x1166da290>, <__main__.Trial object at 0x1166d9e10>, <__main__.Trial object at 0x1166d7090>, <__main__.Trial object at 0x1166d7790>, <__main__.Trial object at 0x1166b6250>, <__main__.Trial object at 0x1166d6690>, <__main__.Trial object at 0x1166d6e90>, <__main__.Trial object at 0x1166d72d0>, <__main__.Trial object at 0x1166d6b50>, <__main__.Trial object at 0x1166d7210>, <__main__.Trial object at 0x1166d4690>, <__main__.Trial object at 0x1166d7850>, <__main__.Trial object at 0x1166d6750>, <__main__.Trial object at 0x1166d7590>, <__main__.Trial object at 0x1166d7d90>, <__main__.Trial object at 0x1166d6d90>, <__main__.Trial object at 0x1166d5f50>, <__main__.Trial object at 0x1166d67d0>, <__main__.Trial object at 0x1166d6550>, <__main__.Trial object at 0x1166d6590>, <__main__.Trial object at 0x1166d7bd0>, <__main__.Trial object at 0x1166d68d0>, <__main__.Trial object at 0x1166d7c90>, <__main__.Trial object at 0x1166d4cd0>, <__main__.Trial object at 0x1166dbd90>, <__main__.Trial object at 0x1166da250>, <__main__.Trial object at 0x1166d4850>, <__main__.Trial object at 0x1166d7290>, <__main__.Trial object at 0x1166d7e50>, <__main__.Trial object at 0x1166d69d0>, <__main__.Trial object at 0x1166d7810>, <__main__.Trial object at 0x1166d7510>, <__main__.Trial object at 0x1166d7050>, <__main__.Trial object at 0x1166d4150>, <__main__.Trial object at 0x1166d5f90>, <__main__.Trial object at 0x1166d6450>, <__main__.Trial object at 0x1166d6950>, <__main__.Trial object at 0x1166d6ed0>, <__main__.Trial object at 0x1166d7c50>, <__main__.Trial object at 0x1166d4a50>, <__main__.Trial object at 0x1166d48d0>, <__main__.Trial object at 0x1166d50d0>, <__main__.Trial object at 0x1166d6ad0>, <__main__.Trial object at 0x1166d4b90>, <__main__.Trial object at 0x1166d7110>, <__main__.Trial object at 0x1166d7f90>, <__main__.Trial object at 0x1166bca50>, <__main__.Trial object at 0x1166bf150>, <__main__.Trial object at 0x1166bf290>, <__main__.Trial object at 0x116570250>, <__main__.Trial object at 0x1166d71d0>, <__main__.Trial object at 0x1166bf690>, <__main__.Trial object at 0x1166bcad0>, <__main__.Trial object at 0x1166bf610>, <__main__.Trial object at 0x1166bee10>, <__main__.Trial object at 0x1166be0d0>, <__main__.Trial object at 0x1166bd7d0>, <__main__.Trial object at 0x1166be510>, <__main__.Trial object at 0x1166bd350>, <__main__.Trial object at 0x1166bdd10>, <__main__.Trial object at 0x1166bebd0>, <__main__.Trial object at 0x1166bff10>, <__main__.Trial object at 0x1166be350>, <__main__.Trial object at 0x1166bd690>, <__main__.Trial object at 0x1166be190>, <__main__.Trial object at 0x1166be290>, <__main__.Trial object at 0x1166be810>, <__main__.Trial object at 0x1166beb50>, <__main__.Trial object at 0x1166bd6d0>, <__main__.Trial object at 0x1166bc290>, <__main__.Trial object at 0x1166bcc10>, <__main__.Trial object at 0x1166bd750>, <__main__.Trial object at 0x1166bc890>, <__main__.Trial object at 0x1166bff90>, <__main__.Trial object at 0x1166bcfd0>, <__main__.Trial object at 0x115cb8d90>, <__main__.Trial object at 0x1166bce50>, <__main__.Trial object at 0x115cb9a10>, <__main__.Trial object at 0x115cb9790>, <__main__.Trial object at 0x115cbb690>, <__main__.Trial object at 0x115cb95d0>, <__main__.Trial object at 0x115cb9c10>, <__main__.Trial object at 0x115cba6d0>, <__main__.Trial object at 0x115cb9d50>, <__main__.Trial object at 0x1166bfd50>, <__main__.Trial object at 0x115cb98d0>, <__main__.Trial object at 0x115cbb790>, <__main__.Trial object at 0x1166bfc10>, <__main__.Trial object at 0x115cba750>, <__main__.Trial object at 0x115cbbd50>, <__main__.Trial object at 0x11665f110>, <__main__.Trial object at 0x115cbb050>, <__main__.Trial object at 0x115cbbb50>, <__main__.Trial object at 0x115cba050>, <__main__.Trial object at 0x116510190>, <__main__.Trial object at 0x116614b10>]\n"
     ]
    }
   ],
   "source": [
    "BASE_PATH = path.join(\"../\", \"out/parsec\")\n",
    "\n",
    "trials: [Trial] = []\n",
    "\n",
    "for root, _, files in walk(BASE_PATH):\n",
    "    # Only need folders with statistics\n",
    "    if \"stats.txt\" not in files:\n",
    "        continue\n",
    "    \n",
    "    parent_dirs = root.split(\"/\")\n",
    "    if len(parent_dirs) < 6:\n",
    "        continue\n",
    "    benchmark = parent_dirs[3]\n",
    "    repl = parent_dirs[4]\n",
    "    assoc = int(parent_dirs[5])\n",
    "    miss_rate = 1\n",
    "\n",
    "    stat_file = path.join(root, \"stats.txt\")\n",
    "    f = open(stat_file, \"r\")\n",
    "    lines = f.readlines()\n",
    "\n",
    "    stats = dict()\n",
    "    for line in lines[2:-2]:\n",
    "        line_args = line.split()\n",
    "        if line_args[0] not in important_stats.keys():\n",
    "            continue\n",
    "        # If recording things other than miss rate, this needs to change\n",
    "        # print(stat_file, line_args)\n",
    "        miss_rate = float(line_args[1])\n",
    "        break\n",
    "    \n",
    "    if miss_rate == 1:\n",
    "        print(\"!\", benchmark, repl, assoc, line_args[1])\n",
    "    trials.append(Trial(benchmark, repl, assoc, miss_rate))\n",
    "print(trials)\n"
   ]
  },
  {
   "cell_type": "code",
   "execution_count": 38,
   "metadata": {},
   "outputs": [
    {
     "name": "stdout",
     "output_type": "stream",
     "text": [
      "['nru', 'sieve', 'rr', 'rrip', 'tree-plru', 'brrip']\n",
      "['freqmine', 'canneal', 'blackscholes', 'raytrace', 'fluidanimate', 'x264', 'vips', 'ferret', 'streamcluster', 'dedup', 'bodytrack', 'facesim', 'swaptions']\n",
      "[2, 4, 8, 16]\n"
     ]
    }
   ],
   "source": [
    "algorithms = set()\n",
    "benchmarks = set()\n",
    "assocs = set()\n",
    "for trial in trials:\n",
    "    algorithms.add(trial.repl)\n",
    "    benchmarks.add(trial.benchmark)\n",
    "    assocs.add(trial.assoc)\n",
    "algorithms = list(algorithms)\n",
    "benchmarks = list(benchmarks)\n",
    "assocs = sorted(list(assocs))\n",
    "\n",
    "print(algorithms)\n",
    "print(benchmarks)\n",
    "print(assocs)"
   ]
  },
  {
   "cell_type": "code",
   "execution_count": 39,
   "metadata": {},
   "outputs": [
    {
     "name": "stdout",
     "output_type": "stream",
     "text": [
      "{2: [array([0.014884, 0.003042, 0.015986, 0.041985, 0.040699, 0.013792, None,\n",
      "       0.018856, None, 0.004648, 0.007492, 0.010195, 0.018094],\n",
      "      dtype=object), array([0.014463, 0.002629, 0.015804, 0.039408, 0.040997, 0.016956,\n",
      "       0.0166  , 0.01621 , 0.015245, 0.005867, 0.009185, 0.012104,\n",
      "       0.018364]), array([0.015577, 0.002938, 0.016504, 0.042722, 0.045001, 0.015063,\n",
      "       0.016029, 0.017152, 0.00328 , 0.005349, 0.009284, 0.011155,\n",
      "       0.019465]), array([0.014724, 0.002616, 0.01557, None, 0.041102, 0.012927, 0.015371,\n",
      "       0.017374, None, 0.004784, 0.007499, 0.010719, None], dtype=object), array([0.013929, 0.002593, 0.015739, 0.041897, 0.039994, 0.012153,\n",
      "       0.015156, 0.019296, 0.002118, 0.004659, 0.00885 , 0.010242,\n",
      "       0.017898]), array([0.015857, None, None, None, None, 0.017443, 0.016308, 0.01744,\n",
      "       None, 0.005927, 0.007523, 0.011677, 0.019095], dtype=object)], 4: [array([0.0122, 0.002532, 0.012996, None, 0.038626, 0.010279, 0.013817,\n",
      "       0.015048, None, 0.004377, 0.007354, 0.00842, None], dtype=object), array([0.012448, 0.002547, 0.017015, 0.03802 , 0.039233, 0.01751 ,\n",
      "       0.017962, 0.015834, 0.044272, 0.005662, 0.008857, 0.012867,\n",
      "       0.01749 ]), array([0.014392, 0.002863, 0.01576 , 0.042636, 0.044326, 0.013619,\n",
      "       0.015191, 0.015433, 0.003728, 0.004868, 0.009215, 0.010192,\n",
      "       0.019047]), array([0.012396, 0.002528, None, 0.040983, None, 0.011287, 0.014102,\n",
      "       0.015439, 0.001275, 0.004434, 0.007399, 0.008614, 0.017072],\n",
      "      dtype=object), array([0.012254, 0.002506, 0.014445, 0.041695, 0.038691, 0.011231,\n",
      "       0.01389 , 0.015405, 0.000844, 0.00441 , 0.008663, 0.00837 ,\n",
      "       0.017173]), array([0.012607, 0.002546, 0.014043, 0.036865, None, 0.018001, 0.015117,\n",
      "       0.016064, 0.017707, 0.005552, None, 0.011863, 0.017362],\n",
      "      dtype=object)], 8: [array([0.011848, 0.002861, 0.012432, 0.0416  , 0.038518, 0.010188,\n",
      "       0.013262, 0.01459 , 0.000653, 0.004358, 0.00733 , 0.007898,\n",
      "       0.016009]), array([0.012213, 0.002553, 0.014819, None, 0.039452, 0.021586, 0.019999,\n",
      "       0.016298, None, 0.005727, 0.008973, 0.017502, 0.017739],\n",
      "      dtype=object), array([0.014126, 0.002863, 0.014072, None, 0.043565, 0.013675, 0.014846,\n",
      "       0.014745, None, 0.004833, 0.009015, 0.009908, 0.018093],\n",
      "      dtype=object), array([0.011909, 0.002667, None, 0.040896, 0.038868, 0.011273, 0.01353,\n",
      "       0.014993, 0.001209, 0.004373, 0.007336, 0.007986, 0.016176],\n",
      "      dtype=object), array([0.011909, 0.002493, 0.012499, 0.041614, 0.038581, 0.010876,\n",
      "       0.013348, 0.01481, None, 0.004416, 0.008755, 0.00832, 0.016703],\n",
      "      dtype=object), array([0.01226, 0.002528, None, 0.036714, 0.040245, 0.019911, 0.015396,\n",
      "       0.016196, 0.023615, 0.005565, 0.007459, 0.015697, 0.018079],\n",
      "      dtype=object)], 16: [array([0.011649, 0.002487, 0.012338, 0.041518, 0.038477, 0.009772,\n",
      "       0.012712, 0.014561, None, 0.004375, 0.008556, 0.007514, 0.015756],\n",
      "      dtype=object), array([0.012357, 0.002559, 0.016017, 0.03771 , 0.04004 , 0.022842,\n",
      "       0.02235 , 0.017505, 0.051307, 0.005874, 0.009045, 0.018567,\n",
      "       0.019499]), array([0.01422 , 0.002856, 0.013875, 0.042785, 0.043497, 0.013784,\n",
      "       0.014303, 0.014647, 0.001659, 0.004836, 0.008925, 0.009482,\n",
      "       0.017997]), array([0.011653, 0.002475, 0.012343, None, 0.03877, 0.010869, 0.012901,\n",
      "       0.014826, 0.000693, 0.004356, 0.008806, 0.007707, 0.01592],\n",
      "      dtype=object), array([0.011974, 0.002485, 0.012368, 0.041518, 0.03851 , 0.011035,\n",
      "       0.012996, 0.014966, 0.00054 , 0.004456, 0.008774, 0.007996,\n",
      "       0.016082]), array([0.012248, 0.002533, 0.014849, 0.036953, 0.040438, 0.019944,\n",
      "       0.016151, 0.016874, 0.020607, 0.005635, 0.008914, 0.014214,\n",
      "       0.01825 ])]}\n"
     ]
    }
   ],
   "source": [
    "avgs = dict()\n",
    "for assoc in assocs:\n",
    "    avg_assoc_group = []\n",
    "    for algo in algorithms:\n",
    "        data = []\n",
    "        for trial in trials:\n",
    "            if trial.repl != algo or trial.assoc != assoc:\n",
    "                continue\n",
    "            data.append(trial.miss_rate)\n",
    "        np_data = np.array(data)\n",
    "        avg_assoc_group.append(np_data)\n",
    "    avgs[assoc] = avg_assoc_group\n",
    "print(avgs)"
   ]
  },
  {
   "cell_type": "code",
   "execution_count": 18,
   "metadata": {},
   "outputs": [
    {
     "data": {
      "text/plain": [
       "<matplotlib.legend.Legend at 0x116140a90>"
      ]
     },
     "execution_count": 18,
     "metadata": {},
     "output_type": "execute_result"
    },
    {
     "data": {
      "text/plain": [
       "<Figure size 640x480 with 0 Axes>"
      ]
     },
     "metadata": {},
     "output_type": "display_data"
    },
    {
     "data": {
      "image/png": "[encoded data removed]",
      "text/plain": [
       "<Figure size 640x480 with 1 Axes>"
      ]
     },
     "metadata": {},
     "output_type": "display_data"
    }
   ],
   "source": [
    "fig = plt.figure()\n",
    "fig, ax = plt.subplots(layout='constrained')\n",
    "\n",
    "x = np.arange(len(algorithms))\n",
    "width = 0.2\n",
    "multiplier = 0\n",
    "\n",
    "for assoc, assoc_group in avgs.items():\n",
    "    offset = width * multiplier\n",
    "    rects = ax.bar(x + offset,\n",
    "        height=[np.mean(trial_set) for trial_set in assoc_group],\n",
    "        width=width,\n",
    "        yerr=[np.std(trial_set) for trial_set in assoc_group],\n",
    "        capsize=6,\n",
    "        label=assoc\n",
    "        )\n",
    "    multiplier += 1\n",
    "\n",
    "ax.set_xticks(x + width * (len(assocs) - 1) / 2, algorithms)\n",
    "ax.legend(loc='upper left', ncols=len(assocs))\n",
    "\n",
    "# ax.bar(algorithms,\n",
    "#     height=[np.mean(avg) for avg in avgs],\n",
    "#     yerr=[np.std(avg) for avg in avgs],\n",
    "#     capsize=12\n",
    "#     )"
   ]
  },
  {
   "cell_type": "code",
   "execution_count": 19,
   "metadata": {},
   "outputs": [
    {
     "data": {
      "text/plain": [
       "<Figure size 640x480 with 0 Axes>"
      ]
     },
     "metadata": {},
     "output_type": "display_data"
    },
    {
     "data": {
      "image/png": "[encoded data removed]",
      "text/plain": [
       "<Figure size 640x480 with 14 Axes>"
      ]
     },
     "metadata": {},
     "output_type": "display_data"
    }
   ],
   "source": [
    "fig = plt.figure()\n",
    "fig, axs = plt.subplots(2, math.ceil(len(benchmarks)/ 2))\n",
    "\n",
    "for bench in benchmarks:\n",
    "    pass"
   ]
  }
 ],
 "metadata": {
  "kernelspec": {
   "display_name": "venv",
   "language": "python",
   "name": "python3"
  },
  "language_info": {
   "codemirror_mode": {
    "name": "ipython",
    "version": 3
   },
   "file_extension": ".py",
   "mimetype": "text/x-python",
   "name": "python",
   "nbconvert_exporter": "python",
   "pygments_lexer": "ipython3",
   "version": "3.11.11"
  }
 },
 "nbformat": 4,
 "nbformat_minor": 2
}
