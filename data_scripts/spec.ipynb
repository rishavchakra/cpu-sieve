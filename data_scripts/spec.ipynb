{
 "cells": [
  {
   "cell_type": "code",
   "execution_count": 1,
   "id": "f23ab0d9",
   "metadata": {},
   "outputs": [],
   "source": [
    "from os import path, walk\n",
    "from datetime import datetime\n",
    "import numpy as np\n",
    "import matplotlib.pyplot as plt\n",
    "import math\n",
    "import csv"
   ]
  },
  {
   "cell_type": "markdown",
   "id": "08e46905",
   "metadata": {},
   "source": [
    "Directory structure:\n",
    "```\n",
    "out/spec/\n",
    "    {benchmark name}/\n",
    "        {repl_code}/\n",
    "            {assoc}\n",
    "```\n",
    "\n",
    "Important metrics: \n",
    "- Associativity\n",
    "- Replacement Algorithm\n",
    "- Benchmark\n",
    "- Miss Rate"
   ]
  },
  {
   "cell_type": "code",
   "execution_count": 3,
   "id": "90f4ba04",
   "metadata": {},
   "outputs": [],
   "source": [
    "class Trial:\n",
    "    def __init__(\n",
    "        self, benchmark: str, repl: str, assoc: str, miss_rate: float, score: float\n",
    "    ):\n",
    "        self.benchmark = benchmark\n",
    "        self.repl = repl\n",
    "        self.assoc = assoc\n",
    "        self.miss_rate = miss_rate\n",
    "        self.score = score"
   ]
  },
  {
   "cell_type": "code",
   "execution_count": null,
   "id": "81c2b0cf",
   "metadata": {},
   "outputs": [],
   "source": [
    "BASE_PATH = path.join(\"../\", \"out/spec\")\n",
    "\n",
    "trials: [Trial] = []\n",
    "\n",
    "for root, _, files in walk(BASE_PATH):\n",
    "    # TODO: check on this based on actual file structure\n",
    "    if \"simout.txt\" not in files:\n",
    "        continue\n",
    "    parent_dirs = root.split(\"/\")\n",
    "    if len(parent_dirs) < 6:\n",
    "        continue\n",
    "    benchmark = parent_dirs[3]\n",
    "    repl = parent_dirs[4]\n",
    "    assoc = int(parent_dirs[5])\n",
    "    miss_rate: int\n",
    "    score: float\n",
    "    \n",
    "    stats = dict()\n",
    "    "
   ]
  }
 ],
 "metadata": {
  "kernelspec": {
   "display_name": "venv",
   "language": "python",
   "name": "python3"
  },
  "language_info": {
   "codemirror_mode": {
    "name": "ipython",
    "version": 3
   },
   "file_extension": ".py",
   "mimetype": "text/x-python",
   "name": "python",
   "nbconvert_exporter": "python",
   "pygments_lexer": "ipython3",
   "version": "3.11.11"
  }
 },
 "nbformat": 4,
 "nbformat_minor": 5
}
